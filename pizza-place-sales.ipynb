{
 "cells": [
  {
   "cell_type": "code",
   "execution_count": 1,
   "id": "4ce4dd9a",
   "metadata": {
    "_cell_guid": "b1076dfc-b9ad-4769-8c92-a6c4dae69d19",
    "_uuid": "8f2839f25d086af736a60e9eeb907d3b93b6e0e5",
    "execution": {
     "iopub.execute_input": "2024-05-08T18:05:35.669052Z",
     "iopub.status.busy": "2024-05-08T18:05:35.668271Z",
     "iopub.status.idle": "2024-05-08T18:05:36.466021Z",
     "shell.execute_reply": "2024-05-08T18:05:36.464442Z"
    },
    "papermill": {
     "duration": 0.811172,
     "end_time": "2024-05-08T18:05:36.469145",
     "exception": false,
     "start_time": "2024-05-08T18:05:35.657973",
     "status": "completed"
    },
    "tags": []
   },
   "outputs": [
    {
     "name": "stdout",
     "output_type": "stream",
     "text": [
      "/kaggle/input/pizza-place-sales/pizza_types.csv\n",
      "/kaggle/input/pizza-place-sales/orders.csv\n",
      "/kaggle/input/pizza-place-sales/order_details.csv\n",
      "/kaggle/input/pizza-place-sales/pizzas.csv\n"
     ]
    }
   ],
   "source": [
    "# This Python 3 environment comes with many helpful analytics libraries installed\n",
    "# It is defined by the kaggle/python Docker image: https://github.com/kaggle/docker-python\n",
    "# For example, here's several helpful packages to load\n",
    "\n",
    "import numpy as np # linear algebra\n",
    "import pandas as pd # data processing, CSV file I/O (e.g. pd.read_csv)\n",
    "\n",
    "# Input data files are available in the read-only \"../input/\" directory\n",
    "# For example, running this (by clicking run or pressing Shift+Enter) will list all files under the input directory\n",
    "\n",
    "import os\n",
    "for dirname, _, filenames in os.walk('/kaggle/input'):\n",
    "    for filename in filenames:\n",
    "        print(os.path.join(dirname, filename))\n",
    "\n",
    "# You can write up to 20GB to the current directory (/kaggle/working/) that gets preserved as output when you create a version using \"Save & Run All\" \n",
    "# You can also write temporary files to /kaggle/temp/, but they won't be saved outside of the current session"
   ]
  },
  {
   "cell_type": "markdown",
   "id": "d3a7d418",
   "metadata": {
    "papermill": {
     "duration": 0.010035,
     "end_time": "2024-05-08T18:05:36.492259",
     "exception": false,
     "start_time": "2024-05-08T18:05:36.482224",
     "status": "completed"
    },
    "tags": []
   },
   "source": [
    "# **The Goal for this Analysis:**"
   ]
  },
  {
   "cell_type": "markdown",
   "id": "0770b279",
   "metadata": {
    "papermill": {
     "duration": 0.00821,
     "end_time": "2024-05-08T18:05:36.511950",
     "exception": false,
     "start_time": "2024-05-08T18:05:36.503740",
     "status": "completed"
    },
    "tags": []
   },
   "source": [
    "We are going to use this dataset for Exploratory Data Analysis in which we will perform many functions and techniques. We will be using Numpy and Pandas libraries for data analysis, data manipulation and data cleaning, we will also use Matplotlib and Seaborn for data visualisation. And then summmarise all the inferences gained for better understanding."
   ]
  },
  {
   "cell_type": "code",
   "execution_count": 2,
   "id": "4aafeb31",
   "metadata": {
    "execution": {
     "iopub.execute_input": "2024-05-08T18:05:36.532137Z",
     "iopub.status.busy": "2024-05-08T18:05:36.530959Z",
     "iopub.status.idle": "2024-05-08T18:05:37.717794Z",
     "shell.execute_reply": "2024-05-08T18:05:37.716826Z"
    },
    "papermill": {
     "duration": 1.199145,
     "end_time": "2024-05-08T18:05:37.720352",
     "exception": false,
     "start_time": "2024-05-08T18:05:36.521207",
     "status": "completed"
    },
    "tags": []
   },
   "outputs": [],
   "source": [
    "import numpy as np\n",
    "import pandas as pd\n",
    "import matplotlib.pyplot as plt\n",
    "import seaborn as sns\n",
    "%matplotlib inline\n",
    "import warnings\n",
    "warnings.filterwarnings('ignore')"
   ]
  },
  {
   "cell_type": "markdown",
   "id": "fa5bf213",
   "metadata": {
    "papermill": {
     "duration": 0.008027,
     "end_time": "2024-05-08T18:05:37.736931",
     "exception": false,
     "start_time": "2024-05-08T18:05:37.728904",
     "status": "completed"
    },
    "tags": []
   },
   "source": [
    "# **Reading different datasets**"
   ]
  },
  {
   "cell_type": "markdown",
   "id": "195c7ff9",
   "metadata": {
    "papermill": {
     "duration": 0.007912,
     "end_time": "2024-05-08T18:05:37.753200",
     "exception": false,
     "start_time": "2024-05-08T18:05:37.745288",
     "status": "completed"
    },
    "tags": []
   },
   "source": [
    "# **Orders Data**"
   ]
  },
  {
   "cell_type": "code",
   "execution_count": 3,
   "id": "fcece280",
   "metadata": {
    "execution": {
     "iopub.execute_input": "2024-05-08T18:05:37.772589Z",
     "iopub.status.busy": "2024-05-08T18:05:37.771833Z",
     "iopub.status.idle": "2024-05-08T18:05:37.840560Z",
     "shell.execute_reply": "2024-05-08T18:05:37.839624Z"
    },
    "papermill": {
     "duration": 0.080386,
     "end_time": "2024-05-08T18:05:37.842821",
     "exception": false,
     "start_time": "2024-05-08T18:05:37.762435",
     "status": "completed"
    },
    "tags": []
   },
   "outputs": [
    {
     "data": {
      "text/html": [
       "<div>\n",
       "<style scoped>\n",
       "    .dataframe tbody tr th:only-of-type {\n",
       "        vertical-align: middle;\n",
       "    }\n",
       "\n",
       "    .dataframe tbody tr th {\n",
       "        vertical-align: top;\n",
       "    }\n",
       "\n",
       "    .dataframe thead th {\n",
       "        text-align: right;\n",
       "    }\n",
       "</style>\n",
       "<table border=\"1\" class=\"dataframe\">\n",
       "  <thead>\n",
       "    <tr style=\"text-align: right;\">\n",
       "      <th></th>\n",
       "      <th>order_details_id</th>\n",
       "      <th>order_id</th>\n",
       "      <th>pizza_id</th>\n",
       "      <th>quantity</th>\n",
       "    </tr>\n",
       "  </thead>\n",
       "  <tbody>\n",
       "    <tr>\n",
       "      <th>0</th>\n",
       "      <td>1</td>\n",
       "      <td>1</td>\n",
       "      <td>hawaiian_m</td>\n",
       "      <td>1</td>\n",
       "    </tr>\n",
       "    <tr>\n",
       "      <th>1</th>\n",
       "      <td>2</td>\n",
       "      <td>2</td>\n",
       "      <td>classic_dlx_m</td>\n",
       "      <td>1</td>\n",
       "    </tr>\n",
       "    <tr>\n",
       "      <th>2</th>\n",
       "      <td>3</td>\n",
       "      <td>2</td>\n",
       "      <td>five_cheese_l</td>\n",
       "      <td>1</td>\n",
       "    </tr>\n",
       "    <tr>\n",
       "      <th>3</th>\n",
       "      <td>4</td>\n",
       "      <td>2</td>\n",
       "      <td>ital_supr_l</td>\n",
       "      <td>1</td>\n",
       "    </tr>\n",
       "    <tr>\n",
       "      <th>4</th>\n",
       "      <td>5</td>\n",
       "      <td>2</td>\n",
       "      <td>mexicana_m</td>\n",
       "      <td>1</td>\n",
       "    </tr>\n",
       "  </tbody>\n",
       "</table>\n",
       "</div>"
      ],
      "text/plain": [
       "   order_details_id  order_id       pizza_id  quantity\n",
       "0                 1         1     hawaiian_m         1\n",
       "1                 2         2  classic_dlx_m         1\n",
       "2                 3         2  five_cheese_l         1\n",
       "3                 4         2    ital_supr_l         1\n",
       "4                 5         2     mexicana_m         1"
      ]
     },
     "execution_count": 3,
     "metadata": {},
     "output_type": "execute_result"
    }
   ],
   "source": [
    "df_order_details = pd.read_csv('/kaggle/input/pizza-place-sales/order_details.csv')\n",
    "df_order_details.head()"
   ]
  },
  {
   "cell_type": "code",
   "execution_count": 4,
   "id": "3eb14ea3",
   "metadata": {
    "execution": {
     "iopub.execute_input": "2024-05-08T18:05:37.862491Z",
     "iopub.status.busy": "2024-05-08T18:05:37.861656Z",
     "iopub.status.idle": "2024-05-08T18:05:37.887085Z",
     "shell.execute_reply": "2024-05-08T18:05:37.885962Z"
    },
    "papermill": {
     "duration": 0.037739,
     "end_time": "2024-05-08T18:05:37.889492",
     "exception": false,
     "start_time": "2024-05-08T18:05:37.851753",
     "status": "completed"
    },
    "tags": []
   },
   "outputs": [
    {
     "name": "stdout",
     "output_type": "stream",
     "text": [
      "<class 'pandas.core.frame.DataFrame'>\n",
      "RangeIndex: 48620 entries, 0 to 48619\n",
      "Data columns (total 4 columns):\n",
      " #   Column            Non-Null Count  Dtype \n",
      "---  ------            --------------  ----- \n",
      " 0   order_details_id  48620 non-null  int64 \n",
      " 1   order_id          48620 non-null  int64 \n",
      " 2   pizza_id          48620 non-null  object\n",
      " 3   quantity          48620 non-null  int64 \n",
      "dtypes: int64(3), object(1)\n",
      "memory usage: 1.5+ MB\n"
     ]
    }
   ],
   "source": [
    "df_order_details.info()"
   ]
  },
  {
   "cell_type": "code",
   "execution_count": 5,
   "id": "e5bea527",
   "metadata": {
    "execution": {
     "iopub.execute_input": "2024-05-08T18:05:37.908496Z",
     "iopub.status.busy": "2024-05-08T18:05:37.908136Z",
     "iopub.status.idle": "2024-05-08T18:05:37.941959Z",
     "shell.execute_reply": "2024-05-08T18:05:37.941009Z"
    },
    "papermill": {
     "duration": 0.045731,
     "end_time": "2024-05-08T18:05:37.944131",
     "exception": false,
     "start_time": "2024-05-08T18:05:37.898400",
     "status": "completed"
    },
    "tags": []
   },
   "outputs": [
    {
     "data": {
      "text/html": [
       "<div>\n",
       "<style scoped>\n",
       "    .dataframe tbody tr th:only-of-type {\n",
       "        vertical-align: middle;\n",
       "    }\n",
       "\n",
       "    .dataframe tbody tr th {\n",
       "        vertical-align: top;\n",
       "    }\n",
       "\n",
       "    .dataframe thead th {\n",
       "        text-align: right;\n",
       "    }\n",
       "</style>\n",
       "<table border=\"1\" class=\"dataframe\">\n",
       "  <thead>\n",
       "    <tr style=\"text-align: right;\">\n",
       "      <th></th>\n",
       "      <th>order_id</th>\n",
       "      <th>date</th>\n",
       "      <th>time</th>\n",
       "    </tr>\n",
       "  </thead>\n",
       "  <tbody>\n",
       "    <tr>\n",
       "      <th>0</th>\n",
       "      <td>1</td>\n",
       "      <td>2015-01-01</td>\n",
       "      <td>11:38:36</td>\n",
       "    </tr>\n",
       "    <tr>\n",
       "      <th>1</th>\n",
       "      <td>2</td>\n",
       "      <td>2015-01-01</td>\n",
       "      <td>11:57:40</td>\n",
       "    </tr>\n",
       "    <tr>\n",
       "      <th>2</th>\n",
       "      <td>3</td>\n",
       "      <td>2015-01-01</td>\n",
       "      <td>12:12:28</td>\n",
       "    </tr>\n",
       "    <tr>\n",
       "      <th>3</th>\n",
       "      <td>4</td>\n",
       "      <td>2015-01-01</td>\n",
       "      <td>12:16:31</td>\n",
       "    </tr>\n",
       "    <tr>\n",
       "      <th>4</th>\n",
       "      <td>5</td>\n",
       "      <td>2015-01-01</td>\n",
       "      <td>12:21:30</td>\n",
       "    </tr>\n",
       "  </tbody>\n",
       "</table>\n",
       "</div>"
      ],
      "text/plain": [
       "   order_id        date      time\n",
       "0         1  2015-01-01  11:38:36\n",
       "1         2  2015-01-01  11:57:40\n",
       "2         3  2015-01-01  12:12:28\n",
       "3         4  2015-01-01  12:16:31\n",
       "4         5  2015-01-01  12:21:30"
      ]
     },
     "execution_count": 5,
     "metadata": {},
     "output_type": "execute_result"
    }
   ],
   "source": [
    "df_orders = pd.read_csv('/kaggle/input/pizza-place-sales/orders.csv')\n",
    "df_orders.head()"
   ]
  },
  {
   "cell_type": "code",
   "execution_count": 6,
   "id": "e688a413",
   "metadata": {
    "execution": {
     "iopub.execute_input": "2024-05-08T18:05:37.963198Z",
     "iopub.status.busy": "2024-05-08T18:05:37.962846Z",
     "iopub.status.idle": "2024-05-08T18:05:37.976012Z",
     "shell.execute_reply": "2024-05-08T18:05:37.974806Z"
    },
    "papermill": {
     "duration": 0.025135,
     "end_time": "2024-05-08T18:05:37.978173",
     "exception": false,
     "start_time": "2024-05-08T18:05:37.953038",
     "status": "completed"
    },
    "tags": []
   },
   "outputs": [
    {
     "name": "stdout",
     "output_type": "stream",
     "text": [
      "<class 'pandas.core.frame.DataFrame'>\n",
      "RangeIndex: 21350 entries, 0 to 21349\n",
      "Data columns (total 3 columns):\n",
      " #   Column    Non-Null Count  Dtype \n",
      "---  ------    --------------  ----- \n",
      " 0   order_id  21350 non-null  int64 \n",
      " 1   date      21350 non-null  object\n",
      " 2   time      21350 non-null  object\n",
      "dtypes: int64(1), object(2)\n",
      "memory usage: 500.5+ KB\n"
     ]
    }
   ],
   "source": [
    "df_orders.info()"
   ]
  },
  {
   "cell_type": "code",
   "execution_count": 7,
   "id": "aedb752c",
   "metadata": {
    "execution": {
     "iopub.execute_input": "2024-05-08T18:05:37.998001Z",
     "iopub.status.busy": "2024-05-08T18:05:37.997640Z",
     "iopub.status.idle": "2024-05-08T18:05:38.755191Z",
     "shell.execute_reply": "2024-05-08T18:05:38.754176Z"
    },
    "papermill": {
     "duration": 0.770395,
     "end_time": "2024-05-08T18:05:38.757656",
     "exception": false,
     "start_time": "2024-05-08T18:05:37.987261",
     "status": "completed"
    },
    "tags": []
   },
   "outputs": [
    {
     "name": "stdout",
     "output_type": "stream",
     "text": [
      "<class 'pandas.core.frame.DataFrame'>\n",
      "RangeIndex: 21350 entries, 0 to 21349\n",
      "Data columns (total 3 columns):\n",
      " #   Column    Non-Null Count  Dtype         \n",
      "---  ------    --------------  -----         \n",
      " 0   order_id  21350 non-null  int64         \n",
      " 1   date      21350 non-null  datetime64[ns]\n",
      " 2   time      21350 non-null  datetime64[ns]\n",
      "dtypes: datetime64[ns](2), int64(1)\n",
      "memory usage: 500.5 KB\n"
     ]
    }
   ],
   "source": [
    "df_orders['date'] = pd.to_datetime(df_orders['date'])\n",
    "df_orders['time'] = pd.to_datetime(df_orders['time'])\n",
    "df_orders.info()"
   ]
  },
  {
   "cell_type": "markdown",
   "id": "3a284925",
   "metadata": {
    "papermill": {
     "duration": 0.00867,
     "end_time": "2024-05-08T18:05:38.775537",
     "exception": false,
     "start_time": "2024-05-08T18:05:38.766867",
     "status": "completed"
    },
    "tags": []
   },
   "source": [
    "# **Pizza Data**"
   ]
  },
  {
   "cell_type": "code",
   "execution_count": 8,
   "id": "3d0352af",
   "metadata": {
    "execution": {
     "iopub.execute_input": "2024-05-08T18:05:38.795791Z",
     "iopub.status.busy": "2024-05-08T18:05:38.794839Z",
     "iopub.status.idle": "2024-05-08T18:05:38.810650Z",
     "shell.execute_reply": "2024-05-08T18:05:38.809625Z"
    },
    "papermill": {
     "duration": 0.02822,
     "end_time": "2024-05-08T18:05:38.812908",
     "exception": false,
     "start_time": "2024-05-08T18:05:38.784688",
     "status": "completed"
    },
    "tags": []
   },
   "outputs": [
    {
     "data": {
      "text/html": [
       "<div>\n",
       "<style scoped>\n",
       "    .dataframe tbody tr th:only-of-type {\n",
       "        vertical-align: middle;\n",
       "    }\n",
       "\n",
       "    .dataframe tbody tr th {\n",
       "        vertical-align: top;\n",
       "    }\n",
       "\n",
       "    .dataframe thead th {\n",
       "        text-align: right;\n",
       "    }\n",
       "</style>\n",
       "<table border=\"1\" class=\"dataframe\">\n",
       "  <thead>\n",
       "    <tr style=\"text-align: right;\">\n",
       "      <th></th>\n",
       "      <th>pizza_type_id</th>\n",
       "      <th>name</th>\n",
       "      <th>category</th>\n",
       "      <th>ingredients</th>\n",
       "    </tr>\n",
       "  </thead>\n",
       "  <tbody>\n",
       "    <tr>\n",
       "      <th>0</th>\n",
       "      <td>bbq_ckn</td>\n",
       "      <td>The Barbecue Chicken Pizza</td>\n",
       "      <td>Chicken</td>\n",
       "      <td>Barbecued Chicken, Red Peppers, Green Peppers,...</td>\n",
       "    </tr>\n",
       "    <tr>\n",
       "      <th>1</th>\n",
       "      <td>cali_ckn</td>\n",
       "      <td>The California Chicken Pizza</td>\n",
       "      <td>Chicken</td>\n",
       "      <td>Chicken, Artichoke, Spinach, Garlic, Jalapeno ...</td>\n",
       "    </tr>\n",
       "    <tr>\n",
       "      <th>2</th>\n",
       "      <td>ckn_alfredo</td>\n",
       "      <td>The Chicken Alfredo Pizza</td>\n",
       "      <td>Chicken</td>\n",
       "      <td>Chicken, Red Onions, Red Peppers, Mushrooms, A...</td>\n",
       "    </tr>\n",
       "    <tr>\n",
       "      <th>3</th>\n",
       "      <td>ckn_pesto</td>\n",
       "      <td>The Chicken Pesto Pizza</td>\n",
       "      <td>Chicken</td>\n",
       "      <td>Chicken, Tomatoes, Red Peppers, Spinach, Garli...</td>\n",
       "    </tr>\n",
       "    <tr>\n",
       "      <th>4</th>\n",
       "      <td>southw_ckn</td>\n",
       "      <td>The Southwest Chicken Pizza</td>\n",
       "      <td>Chicken</td>\n",
       "      <td>Chicken, Tomatoes, Red Peppers, Red Onions, Ja...</td>\n",
       "    </tr>\n",
       "  </tbody>\n",
       "</table>\n",
       "</div>"
      ],
      "text/plain": [
       "  pizza_type_id                          name category  \\\n",
       "0       bbq_ckn    The Barbecue Chicken Pizza  Chicken   \n",
       "1      cali_ckn  The California Chicken Pizza  Chicken   \n",
       "2   ckn_alfredo     The Chicken Alfredo Pizza  Chicken   \n",
       "3     ckn_pesto       The Chicken Pesto Pizza  Chicken   \n",
       "4    southw_ckn   The Southwest Chicken Pizza  Chicken   \n",
       "\n",
       "                                         ingredients  \n",
       "0  Barbecued Chicken, Red Peppers, Green Peppers,...  \n",
       "1  Chicken, Artichoke, Spinach, Garlic, Jalapeno ...  \n",
       "2  Chicken, Red Onions, Red Peppers, Mushrooms, A...  \n",
       "3  Chicken, Tomatoes, Red Peppers, Spinach, Garli...  \n",
       "4  Chicken, Tomatoes, Red Peppers, Red Onions, Ja...  "
      ]
     },
     "execution_count": 8,
     "metadata": {},
     "output_type": "execute_result"
    }
   ],
   "source": [
    "df_pizza_types = pd.read_csv('/kaggle/input/pizza-place-sales/pizza_types.csv', encoding = 'latin1')\n",
    "df_pizza_types.head()"
   ]
  },
  {
   "cell_type": "code",
   "execution_count": 9,
   "id": "3e3c76a6",
   "metadata": {
    "execution": {
     "iopub.execute_input": "2024-05-08T18:05:38.834666Z",
     "iopub.status.busy": "2024-05-08T18:05:38.833900Z",
     "iopub.status.idle": "2024-05-08T18:05:38.843596Z",
     "shell.execute_reply": "2024-05-08T18:05:38.842652Z"
    },
    "papermill": {
     "duration": 0.023603,
     "end_time": "2024-05-08T18:05:38.846080",
     "exception": false,
     "start_time": "2024-05-08T18:05:38.822477",
     "status": "completed"
    },
    "tags": []
   },
   "outputs": [
    {
     "name": "stdout",
     "output_type": "stream",
     "text": [
      "<class 'pandas.core.frame.DataFrame'>\n",
      "RangeIndex: 32 entries, 0 to 31\n",
      "Data columns (total 4 columns):\n",
      " #   Column         Non-Null Count  Dtype \n",
      "---  ------         --------------  ----- \n",
      " 0   pizza_type_id  32 non-null     object\n",
      " 1   name           32 non-null     object\n",
      " 2   category       32 non-null     object\n",
      " 3   ingredients    32 non-null     object\n",
      "dtypes: object(4)\n",
      "memory usage: 1.1+ KB\n"
     ]
    }
   ],
   "source": [
    "df_pizza_types.info()"
   ]
  },
  {
   "cell_type": "code",
   "execution_count": 10,
   "id": "43e1caeb",
   "metadata": {
    "execution": {
     "iopub.execute_input": "2024-05-08T18:05:38.867051Z",
     "iopub.status.busy": "2024-05-08T18:05:38.866378Z",
     "iopub.status.idle": "2024-05-08T18:05:38.883392Z",
     "shell.execute_reply": "2024-05-08T18:05:38.882201Z"
    },
    "papermill": {
     "duration": 0.029645,
     "end_time": "2024-05-08T18:05:38.885540",
     "exception": false,
     "start_time": "2024-05-08T18:05:38.855895",
     "status": "completed"
    },
    "tags": []
   },
   "outputs": [
    {
     "data": {
      "text/html": [
       "<div>\n",
       "<style scoped>\n",
       "    .dataframe tbody tr th:only-of-type {\n",
       "        vertical-align: middle;\n",
       "    }\n",
       "\n",
       "    .dataframe tbody tr th {\n",
       "        vertical-align: top;\n",
       "    }\n",
       "\n",
       "    .dataframe thead th {\n",
       "        text-align: right;\n",
       "    }\n",
       "</style>\n",
       "<table border=\"1\" class=\"dataframe\">\n",
       "  <thead>\n",
       "    <tr style=\"text-align: right;\">\n",
       "      <th></th>\n",
       "      <th>pizza_id</th>\n",
       "      <th>pizza_type_id</th>\n",
       "      <th>size</th>\n",
       "      <th>price</th>\n",
       "    </tr>\n",
       "  </thead>\n",
       "  <tbody>\n",
       "    <tr>\n",
       "      <th>0</th>\n",
       "      <td>bbq_ckn_s</td>\n",
       "      <td>bbq_ckn</td>\n",
       "      <td>S</td>\n",
       "      <td>12.75</td>\n",
       "    </tr>\n",
       "    <tr>\n",
       "      <th>1</th>\n",
       "      <td>bbq_ckn_m</td>\n",
       "      <td>bbq_ckn</td>\n",
       "      <td>M</td>\n",
       "      <td>16.75</td>\n",
       "    </tr>\n",
       "    <tr>\n",
       "      <th>2</th>\n",
       "      <td>bbq_ckn_l</td>\n",
       "      <td>bbq_ckn</td>\n",
       "      <td>L</td>\n",
       "      <td>20.75</td>\n",
       "    </tr>\n",
       "    <tr>\n",
       "      <th>3</th>\n",
       "      <td>cali_ckn_s</td>\n",
       "      <td>cali_ckn</td>\n",
       "      <td>S</td>\n",
       "      <td>12.75</td>\n",
       "    </tr>\n",
       "    <tr>\n",
       "      <th>4</th>\n",
       "      <td>cali_ckn_m</td>\n",
       "      <td>cali_ckn</td>\n",
       "      <td>M</td>\n",
       "      <td>16.75</td>\n",
       "    </tr>\n",
       "  </tbody>\n",
       "</table>\n",
       "</div>"
      ],
      "text/plain": [
       "     pizza_id pizza_type_id size  price\n",
       "0   bbq_ckn_s       bbq_ckn    S  12.75\n",
       "1   bbq_ckn_m       bbq_ckn    M  16.75\n",
       "2   bbq_ckn_l       bbq_ckn    L  20.75\n",
       "3  cali_ckn_s      cali_ckn    S  12.75\n",
       "4  cali_ckn_m      cali_ckn    M  16.75"
      ]
     },
     "execution_count": 10,
     "metadata": {},
     "output_type": "execute_result"
    }
   ],
   "source": [
    "df_pizzas = pd.read_csv('/kaggle/input/pizza-place-sales/pizzas.csv')\n",
    "df_pizzas.head()"
   ]
  },
  {
   "cell_type": "code",
   "execution_count": 11,
   "id": "20601a3a",
   "metadata": {
    "execution": {
     "iopub.execute_input": "2024-05-08T18:05:38.906667Z",
     "iopub.status.busy": "2024-05-08T18:05:38.905757Z",
     "iopub.status.idle": "2024-05-08T18:05:38.915933Z",
     "shell.execute_reply": "2024-05-08T18:05:38.914928Z"
    },
    "papermill": {
     "duration": 0.023344,
     "end_time": "2024-05-08T18:05:38.918549",
     "exception": false,
     "start_time": "2024-05-08T18:05:38.895205",
     "status": "completed"
    },
    "tags": []
   },
   "outputs": [
    {
     "name": "stdout",
     "output_type": "stream",
     "text": [
      "<class 'pandas.core.frame.DataFrame'>\n",
      "RangeIndex: 96 entries, 0 to 95\n",
      "Data columns (total 4 columns):\n",
      " #   Column         Non-Null Count  Dtype  \n",
      "---  ------         --------------  -----  \n",
      " 0   pizza_id       96 non-null     object \n",
      " 1   pizza_type_id  96 non-null     object \n",
      " 2   size           96 non-null     object \n",
      " 3   price          96 non-null     float64\n",
      "dtypes: float64(1), object(3)\n",
      "memory usage: 3.1+ KB\n"
     ]
    }
   ],
   "source": [
    "df_pizzas.info()"
   ]
  },
  {
   "cell_type": "markdown",
   "id": "e1fcd90b",
   "metadata": {
    "papermill": {
     "duration": 0.0093,
     "end_time": "2024-05-08T18:05:38.937492",
     "exception": false,
     "start_time": "2024-05-08T18:05:38.928192",
     "status": "completed"
    },
    "tags": []
   },
   "source": [
    "# **Data Processing**"
   ]
  },
  {
   "cell_type": "markdown",
   "id": "e3a135d7",
   "metadata": {
    "papermill": {
     "duration": 0.009315,
     "end_time": "2024-05-08T18:05:38.956718",
     "exception": false,
     "start_time": "2024-05-08T18:05:38.947403",
     "status": "completed"
    },
    "tags": []
   },
   "source": [
    "# **Merging the dataframes**"
   ]
  },
  {
   "cell_type": "code",
   "execution_count": 12,
   "id": "a1a97191",
   "metadata": {
    "execution": {
     "iopub.execute_input": "2024-05-08T18:05:38.977401Z",
     "iopub.status.busy": "2024-05-08T18:05:38.977060Z",
     "iopub.status.idle": "2024-05-08T18:05:39.005321Z",
     "shell.execute_reply": "2024-05-08T18:05:39.003820Z"
    },
    "papermill": {
     "duration": 0.041655,
     "end_time": "2024-05-08T18:05:39.007935",
     "exception": false,
     "start_time": "2024-05-08T18:05:38.966280",
     "status": "completed"
    },
    "tags": []
   },
   "outputs": [
    {
     "name": "stdout",
     "output_type": "stream",
     "text": [
      "<class 'pandas.core.frame.DataFrame'>\n",
      "RangeIndex: 48620 entries, 0 to 48619\n",
      "Data columns (total 6 columns):\n",
      " #   Column            Non-Null Count  Dtype         \n",
      "---  ------            --------------  -----         \n",
      " 0   order_details_id  48620 non-null  int64         \n",
      " 1   order_id          48620 non-null  int64         \n",
      " 2   pizza_id          48620 non-null  object        \n",
      " 3   quantity          48620 non-null  int64         \n",
      " 4   date              48620 non-null  datetime64[ns]\n",
      " 5   time              48620 non-null  datetime64[ns]\n",
      "dtypes: datetime64[ns](2), int64(3), object(1)\n",
      "memory usage: 2.2+ MB\n"
     ]
    }
   ],
   "source": [
    "merge_df_orders = df_order_details.merge(df_orders, how = 'inner', on = ['order_id'])\n",
    "merge_df_orders.head()\n",
    "#In this code we are merging both dataframe using the order_id from both the dataframe.\n",
    "merge_df_orders.info()\n",
    "#As we can see there are no null values so there is no need for the data cleaning process."
   ]
  },
  {
   "cell_type": "code",
   "execution_count": 13,
   "id": "68d81dea",
   "metadata": {
    "execution": {
     "iopub.execute_input": "2024-05-08T18:05:39.029452Z",
     "iopub.status.busy": "2024-05-08T18:05:39.029087Z",
     "iopub.status.idle": "2024-05-08T18:05:39.050377Z",
     "shell.execute_reply": "2024-05-08T18:05:39.049351Z"
    },
    "papermill": {
     "duration": 0.0346,
     "end_time": "2024-05-08T18:05:39.052629",
     "exception": false,
     "start_time": "2024-05-08T18:05:39.018029",
     "status": "completed"
    },
    "tags": []
   },
   "outputs": [
    {
     "name": "stdout",
     "output_type": "stream",
     "text": [
      "<class 'pandas.core.frame.DataFrame'>\n",
      "RangeIndex: 96 entries, 0 to 95\n",
      "Data columns (total 7 columns):\n",
      " #   Column         Non-Null Count  Dtype  \n",
      "---  ------         --------------  -----  \n",
      " 0   pizza_type_id  96 non-null     object \n",
      " 1   name           96 non-null     object \n",
      " 2   category       96 non-null     object \n",
      " 3   ingredients    96 non-null     object \n",
      " 4   pizza_id       96 non-null     object \n",
      " 5   size           96 non-null     object \n",
      " 6   price          96 non-null     float64\n",
      "dtypes: float64(1), object(6)\n",
      "memory usage: 5.4+ KB\n"
     ]
    }
   ],
   "source": [
    "merge_df_pizzas = df_pizza_types.merge(df_pizzas, how = 'inner', on = ['pizza_type_id'])\n",
    "merge_df_pizzas.head()\n",
    "#In this code we are merging both dataframe using the pizza_type_id from both the dataframe.\n",
    "merge_df_pizzas.info()\n",
    "#As we can see there are no null values so there is no need for the data cleaning process."
   ]
  },
  {
   "cell_type": "markdown",
   "id": "8033546b",
   "metadata": {
    "papermill": {
     "duration": 0.009338,
     "end_time": "2024-05-08T18:05:39.071995",
     "exception": false,
     "start_time": "2024-05-08T18:05:39.062657",
     "status": "completed"
    },
    "tags": []
   },
   "source": [
    "# **Final Dataframe**"
   ]
  },
  {
   "cell_type": "code",
   "execution_count": 14,
   "id": "7a29272b",
   "metadata": {
    "execution": {
     "iopub.execute_input": "2024-05-08T18:05:39.094111Z",
     "iopub.status.busy": "2024-05-08T18:05:39.093164Z",
     "iopub.status.idle": "2024-05-08T18:05:39.155104Z",
     "shell.execute_reply": "2024-05-08T18:05:39.153654Z"
    },
    "papermill": {
     "duration": 0.075549,
     "end_time": "2024-05-08T18:05:39.157668",
     "exception": false,
     "start_time": "2024-05-08T18:05:39.082119",
     "status": "completed"
    },
    "tags": []
   },
   "outputs": [
    {
     "name": "stdout",
     "output_type": "stream",
     "text": [
      "<class 'pandas.core.frame.DataFrame'>\n",
      "RangeIndex: 48620 entries, 0 to 48619\n",
      "Data columns (total 12 columns):\n",
      " #   Column            Non-Null Count  Dtype         \n",
      "---  ------            --------------  -----         \n",
      " 0   pizza_type_id     48620 non-null  object        \n",
      " 1   name              48620 non-null  object        \n",
      " 2   category          48620 non-null  object        \n",
      " 3   ingredients       48620 non-null  object        \n",
      " 4   pizza_id          48620 non-null  object        \n",
      " 5   size              48620 non-null  object        \n",
      " 6   price             48620 non-null  float64       \n",
      " 7   order_details_id  48620 non-null  int64         \n",
      " 8   order_id          48620 non-null  int64         \n",
      " 9   quantity          48620 non-null  int64         \n",
      " 10  date              48620 non-null  datetime64[ns]\n",
      " 11  time              48620 non-null  datetime64[ns]\n",
      "dtypes: datetime64[ns](2), float64(1), int64(3), object(6)\n",
      "memory usage: 4.5+ MB\n"
     ]
    }
   ],
   "source": [
    "df_final = merge_df_pizzas.merge(merge_df_orders, how = 'inner', on = ['pizza_id'])\n",
    "df_final.head()\n",
    "#In this code we are merging both dataframe using the pizza_id from both the dataframe.\n",
    "df_final.info()\n",
    "#As we can see there are no null values so there is no need for the data cleaning process."
   ]
  },
  {
   "cell_type": "code",
   "execution_count": 15,
   "id": "c7267976",
   "metadata": {
    "execution": {
     "iopub.execute_input": "2024-05-08T18:05:39.179497Z",
     "iopub.status.busy": "2024-05-08T18:05:39.178600Z",
     "iopub.status.idle": "2024-05-08T18:05:39.302720Z",
     "shell.execute_reply": "2024-05-08T18:05:39.301560Z"
    },
    "papermill": {
     "duration": 0.137929,
     "end_time": "2024-05-08T18:05:39.305577",
     "exception": false,
     "start_time": "2024-05-08T18:05:39.167648",
     "status": "completed"
    },
    "tags": []
   },
   "outputs": [
    {
     "name": "stdout",
     "output_type": "stream",
     "text": [
      "<class 'pandas.core.frame.DataFrame'>\n",
      "RangeIndex: 48620 entries, 0 to 48619\n",
      "Data columns (total 14 columns):\n",
      " #   Column            Non-Null Count  Dtype         \n",
      "---  ------            --------------  -----         \n",
      " 0   pizza_type_id     48620 non-null  object        \n",
      " 1   name              48620 non-null  object        \n",
      " 2   category          48620 non-null  object        \n",
      " 3   ingredients       48620 non-null  object        \n",
      " 4   pizza_id          48620 non-null  object        \n",
      " 5   size              48620 non-null  object        \n",
      " 6   price             48620 non-null  float64       \n",
      " 7   order_details_id  48620 non-null  int64         \n",
      " 8   order_id          48620 non-null  int64         \n",
      " 9   quantity          48620 non-null  int64         \n",
      " 10  date              48620 non-null  datetime64[ns]\n",
      " 11  time              48620 non-null  datetime64[ns]\n",
      " 12  months            48620 non-null  int32         \n",
      " 13  hours             48620 non-null  int32         \n",
      "dtypes: datetime64[ns](2), float64(1), int32(2), int64(3), object(6)\n",
      "memory usage: 4.8+ MB\n"
     ]
    }
   ],
   "source": [
    "#Creating new columns for month and hour.\n",
    "df_final['months'] = pd.to_datetime(df_final['date'], infer_datetime_format = True).dt.month\n",
    "df_final['hours'] = pd.to_datetime(df_final['time'], infer_datetime_format = True).dt.hour\n",
    "df_final.info()\n",
    "#As we can see there are no null values so there is no need for the data cleaning process."
   ]
  },
  {
   "cell_type": "code",
   "execution_count": 16,
   "id": "57e31c72",
   "metadata": {
    "execution": {
     "iopub.execute_input": "2024-05-08T18:05:39.327282Z",
     "iopub.status.busy": "2024-05-08T18:05:39.326938Z",
     "iopub.status.idle": "2024-05-08T18:05:39.367909Z",
     "shell.execute_reply": "2024-05-08T18:05:39.366834Z"
    },
    "papermill": {
     "duration": 0.054477,
     "end_time": "2024-05-08T18:05:39.370395",
     "exception": false,
     "start_time": "2024-05-08T18:05:39.315918",
     "status": "completed"
    },
    "tags": []
   },
   "outputs": [
    {
     "data": {
      "text/html": [
       "<div>\n",
       "<style scoped>\n",
       "    .dataframe tbody tr th:only-of-type {\n",
       "        vertical-align: middle;\n",
       "    }\n",
       "\n",
       "    .dataframe tbody tr th {\n",
       "        vertical-align: top;\n",
       "    }\n",
       "\n",
       "    .dataframe thead th {\n",
       "        text-align: right;\n",
       "    }\n",
       "</style>\n",
       "<table border=\"1\" class=\"dataframe\">\n",
       "  <thead>\n",
       "    <tr style=\"text-align: right;\">\n",
       "      <th></th>\n",
       "      <th>pizza_type_id</th>\n",
       "      <th>name</th>\n",
       "      <th>category</th>\n",
       "      <th>ingredients</th>\n",
       "      <th>pizza_id</th>\n",
       "      <th>size</th>\n",
       "      <th>price</th>\n",
       "      <th>order_id</th>\n",
       "      <th>quantity</th>\n",
       "      <th>date</th>\n",
       "      <th>time</th>\n",
       "      <th>months</th>\n",
       "      <th>hours</th>\n",
       "    </tr>\n",
       "    <tr>\n",
       "      <th>order_details_id</th>\n",
       "      <th></th>\n",
       "      <th></th>\n",
       "      <th></th>\n",
       "      <th></th>\n",
       "      <th></th>\n",
       "      <th></th>\n",
       "      <th></th>\n",
       "      <th></th>\n",
       "      <th></th>\n",
       "      <th></th>\n",
       "      <th></th>\n",
       "      <th></th>\n",
       "      <th></th>\n",
       "    </tr>\n",
       "  </thead>\n",
       "  <tbody>\n",
       "    <tr>\n",
       "      <th>1</th>\n",
       "      <td>hawaiian</td>\n",
       "      <td>The Hawaiian Pizza</td>\n",
       "      <td>Classic</td>\n",
       "      <td>Sliced Ham, Pineapple, Mozzarella Cheese</td>\n",
       "      <td>hawaiian_m</td>\n",
       "      <td>M</td>\n",
       "      <td>13.25</td>\n",
       "      <td>1</td>\n",
       "      <td>1</td>\n",
       "      <td>2015-01-01</td>\n",
       "      <td>2024-05-08 11:38:36</td>\n",
       "      <td>1</td>\n",
       "      <td>11</td>\n",
       "    </tr>\n",
       "    <tr>\n",
       "      <th>2</th>\n",
       "      <td>classic_dlx</td>\n",
       "      <td>The Classic Deluxe Pizza</td>\n",
       "      <td>Classic</td>\n",
       "      <td>Pepperoni, Mushrooms, Red Onions, Red Peppers,...</td>\n",
       "      <td>classic_dlx_m</td>\n",
       "      <td>M</td>\n",
       "      <td>16.00</td>\n",
       "      <td>2</td>\n",
       "      <td>1</td>\n",
       "      <td>2015-01-01</td>\n",
       "      <td>2024-05-08 11:57:40</td>\n",
       "      <td>1</td>\n",
       "      <td>11</td>\n",
       "    </tr>\n",
       "    <tr>\n",
       "      <th>3</th>\n",
       "      <td>five_cheese</td>\n",
       "      <td>The Five Cheese Pizza</td>\n",
       "      <td>Veggie</td>\n",
       "      <td>Mozzarella Cheese, Provolone Cheese, Smoked Go...</td>\n",
       "      <td>five_cheese_l</td>\n",
       "      <td>L</td>\n",
       "      <td>18.50</td>\n",
       "      <td>2</td>\n",
       "      <td>1</td>\n",
       "      <td>2015-01-01</td>\n",
       "      <td>2024-05-08 11:57:40</td>\n",
       "      <td>1</td>\n",
       "      <td>11</td>\n",
       "    </tr>\n",
       "    <tr>\n",
       "      <th>4</th>\n",
       "      <td>ital_supr</td>\n",
       "      <td>The Italian Supreme Pizza</td>\n",
       "      <td>Supreme</td>\n",
       "      <td>Calabrese Salami, Capocollo, Tomatoes, Red Oni...</td>\n",
       "      <td>ital_supr_l</td>\n",
       "      <td>L</td>\n",
       "      <td>20.75</td>\n",
       "      <td>2</td>\n",
       "      <td>1</td>\n",
       "      <td>2015-01-01</td>\n",
       "      <td>2024-05-08 11:57:40</td>\n",
       "      <td>1</td>\n",
       "      <td>11</td>\n",
       "    </tr>\n",
       "    <tr>\n",
       "      <th>5</th>\n",
       "      <td>mexicana</td>\n",
       "      <td>The Mexicana Pizza</td>\n",
       "      <td>Veggie</td>\n",
       "      <td>Tomatoes, Red Peppers, Jalapeno Peppers, Red O...</td>\n",
       "      <td>mexicana_m</td>\n",
       "      <td>M</td>\n",
       "      <td>16.00</td>\n",
       "      <td>2</td>\n",
       "      <td>1</td>\n",
       "      <td>2015-01-01</td>\n",
       "      <td>2024-05-08 11:57:40</td>\n",
       "      <td>1</td>\n",
       "      <td>11</td>\n",
       "    </tr>\n",
       "    <tr>\n",
       "      <th>...</th>\n",
       "      <td>...</td>\n",
       "      <td>...</td>\n",
       "      <td>...</td>\n",
       "      <td>...</td>\n",
       "      <td>...</td>\n",
       "      <td>...</td>\n",
       "      <td>...</td>\n",
       "      <td>...</td>\n",
       "      <td>...</td>\n",
       "      <td>...</td>\n",
       "      <td>...</td>\n",
       "      <td>...</td>\n",
       "      <td>...</td>\n",
       "    </tr>\n",
       "    <tr>\n",
       "      <th>48616</th>\n",
       "      <td>ckn_alfredo</td>\n",
       "      <td>The Chicken Alfredo Pizza</td>\n",
       "      <td>Chicken</td>\n",
       "      <td>Chicken, Red Onions, Red Peppers, Mushrooms, A...</td>\n",
       "      <td>ckn_alfredo_m</td>\n",
       "      <td>M</td>\n",
       "      <td>16.75</td>\n",
       "      <td>21348</td>\n",
       "      <td>1</td>\n",
       "      <td>2015-12-31</td>\n",
       "      <td>2024-05-08 21:23:10</td>\n",
       "      <td>12</td>\n",
       "      <td>21</td>\n",
       "    </tr>\n",
       "    <tr>\n",
       "      <th>48617</th>\n",
       "      <td>four_cheese</td>\n",
       "      <td>The Four Cheese Pizza</td>\n",
       "      <td>Veggie</td>\n",
       "      <td>Ricotta Cheese, Gorgonzola Piccante Cheese, Mo...</td>\n",
       "      <td>four_cheese_l</td>\n",
       "      <td>L</td>\n",
       "      <td>17.95</td>\n",
       "      <td>21348</td>\n",
       "      <td>1</td>\n",
       "      <td>2015-12-31</td>\n",
       "      <td>2024-05-08 21:23:10</td>\n",
       "      <td>12</td>\n",
       "      <td>21</td>\n",
       "    </tr>\n",
       "    <tr>\n",
       "      <th>48618</th>\n",
       "      <td>napolitana</td>\n",
       "      <td>The Napolitana Pizza</td>\n",
       "      <td>Classic</td>\n",
       "      <td>Tomatoes, Anchovies, Green Olives, Red Onions,...</td>\n",
       "      <td>napolitana_s</td>\n",
       "      <td>S</td>\n",
       "      <td>12.00</td>\n",
       "      <td>21348</td>\n",
       "      <td>1</td>\n",
       "      <td>2015-12-31</td>\n",
       "      <td>2024-05-08 21:23:10</td>\n",
       "      <td>12</td>\n",
       "      <td>21</td>\n",
       "    </tr>\n",
       "    <tr>\n",
       "      <th>48619</th>\n",
       "      <td>mexicana</td>\n",
       "      <td>The Mexicana Pizza</td>\n",
       "      <td>Veggie</td>\n",
       "      <td>Tomatoes, Red Peppers, Jalapeno Peppers, Red O...</td>\n",
       "      <td>mexicana_l</td>\n",
       "      <td>L</td>\n",
       "      <td>20.25</td>\n",
       "      <td>21349</td>\n",
       "      <td>1</td>\n",
       "      <td>2015-12-31</td>\n",
       "      <td>2024-05-08 22:09:54</td>\n",
       "      <td>12</td>\n",
       "      <td>22</td>\n",
       "    </tr>\n",
       "    <tr>\n",
       "      <th>48620</th>\n",
       "      <td>bbq_ckn</td>\n",
       "      <td>The Barbecue Chicken Pizza</td>\n",
       "      <td>Chicken</td>\n",
       "      <td>Barbecued Chicken, Red Peppers, Green Peppers,...</td>\n",
       "      <td>bbq_ckn_s</td>\n",
       "      <td>S</td>\n",
       "      <td>12.75</td>\n",
       "      <td>21350</td>\n",
       "      <td>1</td>\n",
       "      <td>2015-12-31</td>\n",
       "      <td>2024-05-08 23:02:05</td>\n",
       "      <td>12</td>\n",
       "      <td>23</td>\n",
       "    </tr>\n",
       "  </tbody>\n",
       "</table>\n",
       "<p>48620 rows × 13 columns</p>\n",
       "</div>"
      ],
      "text/plain": [
       "                 pizza_type_id                        name category  \\\n",
       "order_details_id                                                      \n",
       "1                     hawaiian          The Hawaiian Pizza  Classic   \n",
       "2                  classic_dlx    The Classic Deluxe Pizza  Classic   \n",
       "3                  five_cheese       The Five Cheese Pizza   Veggie   \n",
       "4                    ital_supr   The Italian Supreme Pizza  Supreme   \n",
       "5                     mexicana          The Mexicana Pizza   Veggie   \n",
       "...                        ...                         ...      ...   \n",
       "48616              ckn_alfredo   The Chicken Alfredo Pizza  Chicken   \n",
       "48617              four_cheese       The Four Cheese Pizza   Veggie   \n",
       "48618               napolitana        The Napolitana Pizza  Classic   \n",
       "48619                 mexicana          The Mexicana Pizza   Veggie   \n",
       "48620                  bbq_ckn  The Barbecue Chicken Pizza  Chicken   \n",
       "\n",
       "                                                        ingredients  \\\n",
       "order_details_id                                                      \n",
       "1                          Sliced Ham, Pineapple, Mozzarella Cheese   \n",
       "2                 Pepperoni, Mushrooms, Red Onions, Red Peppers,...   \n",
       "3                 Mozzarella Cheese, Provolone Cheese, Smoked Go...   \n",
       "4                 Calabrese Salami, Capocollo, Tomatoes, Red Oni...   \n",
       "5                 Tomatoes, Red Peppers, Jalapeno Peppers, Red O...   \n",
       "...                                                             ...   \n",
       "48616             Chicken, Red Onions, Red Peppers, Mushrooms, A...   \n",
       "48617             Ricotta Cheese, Gorgonzola Piccante Cheese, Mo...   \n",
       "48618             Tomatoes, Anchovies, Green Olives, Red Onions,...   \n",
       "48619             Tomatoes, Red Peppers, Jalapeno Peppers, Red O...   \n",
       "48620             Barbecued Chicken, Red Peppers, Green Peppers,...   \n",
       "\n",
       "                       pizza_id size  price  order_id  quantity       date  \\\n",
       "order_details_id                                                             \n",
       "1                    hawaiian_m    M  13.25         1         1 2015-01-01   \n",
       "2                 classic_dlx_m    M  16.00         2         1 2015-01-01   \n",
       "3                 five_cheese_l    L  18.50         2         1 2015-01-01   \n",
       "4                   ital_supr_l    L  20.75         2         1 2015-01-01   \n",
       "5                    mexicana_m    M  16.00         2         1 2015-01-01   \n",
       "...                         ...  ...    ...       ...       ...        ...   \n",
       "48616             ckn_alfredo_m    M  16.75     21348         1 2015-12-31   \n",
       "48617             four_cheese_l    L  17.95     21348         1 2015-12-31   \n",
       "48618              napolitana_s    S  12.00     21348         1 2015-12-31   \n",
       "48619                mexicana_l    L  20.25     21349         1 2015-12-31   \n",
       "48620                 bbq_ckn_s    S  12.75     21350         1 2015-12-31   \n",
       "\n",
       "                                time  months  hours  \n",
       "order_details_id                                     \n",
       "1                2024-05-08 11:38:36       1     11  \n",
       "2                2024-05-08 11:57:40       1     11  \n",
       "3                2024-05-08 11:57:40       1     11  \n",
       "4                2024-05-08 11:57:40       1     11  \n",
       "5                2024-05-08 11:57:40       1     11  \n",
       "...                              ...     ...    ...  \n",
       "48616            2024-05-08 21:23:10      12     21  \n",
       "48617            2024-05-08 21:23:10      12     21  \n",
       "48618            2024-05-08 21:23:10      12     21  \n",
       "48619            2024-05-08 22:09:54      12     22  \n",
       "48620            2024-05-08 23:02:05      12     23  \n",
       "\n",
       "[48620 rows x 13 columns]"
      ]
     },
     "execution_count": 16,
     "metadata": {},
     "output_type": "execute_result"
    }
   ],
   "source": [
    "#Sorting the values and setting the index of the dataframe\n",
    "fdf = df_final.sort_values(by = ['order_details_id'])\n",
    "fdf.set_index(['order_details_id'])"
   ]
  },
  {
   "cell_type": "markdown",
   "id": "64212a38",
   "metadata": {
    "papermill": {
     "duration": 0.009967,
     "end_time": "2024-05-08T18:05:39.391175",
     "exception": false,
     "start_time": "2024-05-08T18:05:39.381208",
     "status": "completed"
    },
    "tags": []
   },
   "source": [
    "# **Question 1 - Give the number of pizzas sold as per category and size.**"
   ]
  },
  {
   "cell_type": "code",
   "execution_count": 17,
   "id": "f21bc803",
   "metadata": {
    "execution": {
     "iopub.execute_input": "2024-05-08T18:05:39.413998Z",
     "iopub.status.busy": "2024-05-08T18:05:39.413303Z",
     "iopub.status.idle": "2024-05-08T18:05:39.742198Z",
     "shell.execute_reply": "2024-05-08T18:05:39.741122Z"
    },
    "papermill": {
     "duration": 0.34274,
     "end_time": "2024-05-08T18:05:39.744577",
     "exception": false,
     "start_time": "2024-05-08T18:05:39.401837",
     "status": "completed"
    },
    "tags": []
   },
   "outputs": [
    {
     "data": {
      "image/png": "[encoded data removed]",
      "text/plain": [
       "<Figure size 500x400 with 1 Axes>"
      ]
     },
     "metadata": {},
     "output_type": "display_data"
    }
   ],
   "source": [
    "#no_of_pizzas_sold_as_per_category\n",
    "no_of_pizzas_sold_as_per_category = fdf['category'].value_counts()\n",
    "plt.title('no_of_pizzas_sold_as_per_category')\n",
    "plt.ylabel('pizza categories')\n",
    "ax = no_of_pizzas_sold_as_per_category.plot(kind = 'bar', figsize = (5,4))\n",
    "for bars in ax.containers:\n",
    "    ax.bar_label(bars)"
   ]
  },
  {
   "cell_type": "code",
   "execution_count": 18,
   "id": "f2c34bf8",
   "metadata": {
    "execution": {
     "iopub.execute_input": "2024-05-08T18:05:39.768768Z",
     "iopub.status.busy": "2024-05-08T18:05:39.767986Z",
     "iopub.status.idle": "2024-05-08T18:05:40.061970Z",
     "shell.execute_reply": "2024-05-08T18:05:40.060884Z"
    },
    "papermill": {
     "duration": 0.308705,
     "end_time": "2024-05-08T18:05:40.064433",
     "exception": false,
     "start_time": "2024-05-08T18:05:39.755728",
     "status": "completed"
    },
    "tags": []
   },
   "outputs": [
    {
     "data": {
      "image/png": "[encoded data removed]",
      "text/plain": [
       "<Figure size 500x400 with 1 Axes>"
      ]
     },
     "metadata": {},
     "output_type": "display_data"
    }
   ],
   "source": [
    "#no_of_pizzas_sold_as_per_size\n",
    "no_of_pizzas_sold_as_per_size = fdf['size'].value_counts()\n",
    "plt.title('no_of_pizzas_sold_as_per_size')\n",
    "plt.ylabel('pizza size')\n",
    "ax = no_of_pizzas_sold_as_per_size.plot(kind = 'bar', figsize = (5,4), color = sns.color_palette('rocket'))\n",
    "for bars in ax.containers:\n",
    "    ax.bar_label(bars)"
   ]
  },
  {
   "cell_type": "markdown",
   "id": "90f4e319",
   "metadata": {
    "papermill": {
     "duration": 0.010935,
     "end_time": "2024-05-08T18:05:40.086869",
     "exception": false,
     "start_time": "2024-05-08T18:05:40.075934",
     "status": "completed"
    },
    "tags": []
   },
   "source": [
    "# **Question 2 - Give the top 10 and least 10 pizzas sold.**"
   ]
  },
  {
   "cell_type": "code",
   "execution_count": 19,
   "id": "ed8b7f00",
   "metadata": {
    "execution": {
     "iopub.execute_input": "2024-05-08T18:05:40.111337Z",
     "iopub.status.busy": "2024-05-08T18:05:40.110978Z",
     "iopub.status.idle": "2024-05-08T18:05:40.431815Z",
     "shell.execute_reply": "2024-05-08T18:05:40.430906Z"
    },
    "papermill": {
     "duration": 0.33623,
     "end_time": "2024-05-08T18:05:40.434356",
     "exception": false,
     "start_time": "2024-05-08T18:05:40.098126",
     "status": "completed"
    },
    "tags": []
   },
   "outputs": [
    {
     "data": {
      "image/png": "[encoded data removed]",
      "text/plain": [
       "<Figure size 800x500 with 1 Axes>"
      ]
     },
     "metadata": {},
     "output_type": "display_data"
    }
   ],
   "source": [
    "#here we are first grouping the data by pizza_id and sorting it by the sum of price. \n",
    "pizza_sales = fdf.groupby(['pizza_id'])['price'].sum().sort_values(ascending = False)\n",
    "#Top 10 Pizzas Sold\n",
    "plt.title('top 10 pizzas sold')\n",
    "plt.ylabel('price')\n",
    "ax = pizza_sales.head(10).plot(kind = 'bar', figsize = (8,5), color = sns.color_palette('crest'))\n",
    "for bars in ax.containers:\n",
    "    ax.bar_label(bars)"
   ]
  },
  {
   "cell_type": "code",
   "execution_count": 20,
   "id": "632a664e",
   "metadata": {
    "execution": {
     "iopub.execute_input": "2024-05-08T18:05:40.460449Z",
     "iopub.status.busy": "2024-05-08T18:05:40.459807Z",
     "iopub.status.idle": "2024-05-08T18:05:40.792624Z",
     "shell.execute_reply": "2024-05-08T18:05:40.791549Z"
    },
    "papermill": {
     "duration": 0.348404,
     "end_time": "2024-05-08T18:05:40.794995",
     "exception": false,
     "start_time": "2024-05-08T18:05:40.446591",
     "status": "completed"
    },
    "tags": []
   },
   "outputs": [
    {
     "data": {
      "image/png": "[encoded data removed]",
      "text/plain": [
       "<Figure size 800x500 with 1 Axes>"
      ]
     },
     "metadata": {},
     "output_type": "display_data"
    }
   ],
   "source": [
    "#Least 10 Pizzas Sold\n",
    "plt.title('least 10 pizzas sold')\n",
    "plt.ylabel('price')\n",
    "ax = pizza_sales.tail(10).plot(kind = 'bar', figsize = (8,5), color = sns.color_palette('mako'))\n",
    "for bars in ax.containers:\n",
    "    ax.bar_label(bars)"
   ]
  },
  {
   "cell_type": "markdown",
   "id": "47d336a3",
   "metadata": {
    "papermill": {
     "duration": 0.012663,
     "end_time": "2024-05-08T18:05:40.822130",
     "exception": false,
     "start_time": "2024-05-08T18:05:40.809467",
     "status": "completed"
    },
    "tags": []
   },
   "source": [
    "# **Question 3 - How many customers do we have each day? Are there any peak hours?**"
   ]
  },
  {
   "cell_type": "code",
   "execution_count": 21,
   "id": "427424fb",
   "metadata": {
    "execution": {
     "iopub.execute_input": "2024-05-08T18:05:40.849963Z",
     "iopub.status.busy": "2024-05-08T18:05:40.849201Z",
     "iopub.status.idle": "2024-05-08T18:05:40.860865Z",
     "shell.execute_reply": "2024-05-08T18:05:40.859788Z"
    },
    "papermill": {
     "duration": 0.028311,
     "end_time": "2024-05-08T18:05:40.863485",
     "exception": false,
     "start_time": "2024-05-08T18:05:40.835174",
     "status": "completed"
    },
    "tags": []
   },
   "outputs": [
    {
     "name": "stdout",
     "output_type": "stream",
     "text": [
      "date\n",
      "2015-11-26    261\n",
      "2015-11-27    259\n",
      "2015-10-15    258\n",
      "2015-07-04    233\n",
      "2015-07-03    207\n",
      "             ... \n",
      "2015-12-27     87\n",
      "2015-11-22     82\n",
      "2015-12-29     77\n",
      "2015-03-22     76\n",
      "2015-12-30     73\n",
      "Name: count, Length: 358, dtype: int64\n",
      "customers we have each day (average) 135.81005586592178\n"
     ]
    }
   ],
   "source": [
    "#showing the number of customers we have each day\n",
    "customers_we_have_each_day = fdf['date'].value_counts()\n",
    "print(customers_we_have_each_day)\n",
    "#showing the number of customers we have on an average each day\n",
    "customers_we_have_each_day_average = fdf['date'].value_counts().mean()\n",
    "print('customers we have each day (average)', customers_we_have_each_day_average)"
   ]
  },
  {
   "cell_type": "code",
   "execution_count": 22,
   "id": "9a7f9949",
   "metadata": {
    "execution": {
     "iopub.execute_input": "2024-05-08T18:05:40.891452Z",
     "iopub.status.busy": "2024-05-08T18:05:40.890682Z",
     "iopub.status.idle": "2024-05-08T18:05:40.898015Z",
     "shell.execute_reply": "2024-05-08T18:05:40.896946Z"
    },
    "papermill": {
     "duration": 0.024326,
     "end_time": "2024-05-08T18:05:40.900912",
     "exception": false,
     "start_time": "2024-05-08T18:05:40.876586",
     "status": "completed"
    },
    "tags": []
   },
   "outputs": [
    {
     "name": "stdout",
     "output_type": "stream",
     "text": [
      "hours\n",
      "12    6543\n",
      "13    6203\n",
      "18    5359\n",
      "17    5143\n",
      "19    4350\n",
      "16    4185\n",
      "14    3521\n",
      "20    3487\n",
      "15    3170\n",
      "11    2672\n",
      "21    2528\n",
      "22    1370\n",
      "23      68\n",
      "10      17\n",
      "9        4\n",
      "Name: count, dtype: int64\n"
     ]
    }
   ],
   "source": [
    "#showing the peak hours when the customers usually visit\n",
    "peak_hours = fdf['hours'].value_counts().sort_values(ascending = False)\n",
    "print(peak_hours)\n",
    "#this shows that the peak hours are between 12 PM - 1 PM & 5 PM - 6 PM."
   ]
  },
  {
   "cell_type": "markdown",
   "id": "bff6085f",
   "metadata": {
    "papermill": {
     "duration": 0.013224,
     "end_time": "2024-05-08T18:05:40.927808",
     "exception": false,
     "start_time": "2024-05-08T18:05:40.914584",
     "status": "completed"
    },
    "tags": []
   },
   "source": [
    "# **Question 4 - How many pizzas are typically in order? Do we have any bestsellers?**"
   ]
  },
  {
   "cell_type": "code",
   "execution_count": 23,
   "id": "b34d8d67",
   "metadata": {
    "execution": {
     "iopub.execute_input": "2024-05-08T18:05:40.959420Z",
     "iopub.status.busy": "2024-05-08T18:05:40.958781Z",
     "iopub.status.idle": "2024-05-08T18:05:40.967231Z",
     "shell.execute_reply": "2024-05-08T18:05:40.966154Z"
    },
    "papermill": {
     "duration": 0.027548,
     "end_time": "2024-05-08T18:05:40.969459",
     "exception": false,
     "start_time": "2024-05-08T18:05:40.941911",
     "status": "completed"
    },
    "tags": []
   },
   "outputs": [
    {
     "data": {
      "text/plain": [
       "quantity\n",
       "1    47693\n",
       "2      903\n",
       "3       21\n",
       "4        3\n",
       "Name: count, dtype: int64"
      ]
     },
     "execution_count": 23,
     "metadata": {},
     "output_type": "execute_result"
    }
   ],
   "source": [
    "#pizzas typically in order\n",
    "fdf['quantity'].value_counts()\n",
    "#here we can see that the pizzas tyically in order is 1, and rarely 4."
   ]
  },
  {
   "cell_type": "code",
   "execution_count": 24,
   "id": "e76fbf7f",
   "metadata": {
    "execution": {
     "iopub.execute_input": "2024-05-08T18:05:40.998070Z",
     "iopub.status.busy": "2024-05-08T18:05:40.997723Z",
     "iopub.status.idle": "2024-05-08T18:05:41.008299Z",
     "shell.execute_reply": "2024-05-08T18:05:41.007219Z"
    },
    "papermill": {
     "duration": 0.02831,
     "end_time": "2024-05-08T18:05:41.011305",
     "exception": false,
     "start_time": "2024-05-08T18:05:40.982995",
     "status": "completed"
    },
    "tags": []
   },
   "outputs": [
    {
     "name": "stdout",
     "output_type": "stream",
     "text": [
      "top 5 pizzas sold by revenue pizza_id\n",
      "thai_ckn_l       28323.75\n",
      "five_cheese_l    25141.50\n",
      "four_cheese_l    22850.35\n",
      "spicy_ital_l     22576.00\n",
      "big_meat_s       21732.00\n",
      "Name: price, dtype: float64\n",
      "top 5 pizzas sold by no of them ordered pizza_id\n",
      "big_meat_s       1811\n",
      "thai_ckn_l       1365\n",
      "five_cheese_l    1359\n",
      "four_cheese_l    1273\n",
      "classic_dlx_m    1159\n",
      "Name: count, dtype: int64\n"
     ]
    }
   ],
   "source": [
    "#any bestsellers\n",
    "#for this we can categorise our sales intwo formats, one will be acc to the pizzas sold(revenue earned) and the other will be acc to the no. of pizzas ordered.\n",
    "#top 5 pizzas sold by revenue\n",
    "print('top 5 pizzas sold by revenue',pizza_sales.head(5))\n",
    "#top 5 pizzas sold by no of them ordered\n",
    "print('top 5 pizzas sold by no of them ordered',fdf['pizza_id'].value_counts().head(5))\n",
    "#this shows that our bestsellers are thai_ckn_l, big_meat_s, four_cheese_l and five_cheese_l."
   ]
  },
  {
   "cell_type": "markdown",
   "id": "4e993f1f",
   "metadata": {
    "papermill": {
     "duration": 0.012986,
     "end_time": "2024-05-08T18:05:41.037700",
     "exception": false,
     "start_time": "2024-05-08T18:05:41.024714",
     "status": "completed"
    },
    "tags": []
   },
   "source": [
    "# **Question 5 - How much money did we make this year? Can we identify any seasonality in the sales?**"
   ]
  },
  {
   "cell_type": "code",
   "execution_count": 25,
   "id": "b36d2071",
   "metadata": {
    "execution": {
     "iopub.execute_input": "2024-05-08T18:05:41.065985Z",
     "iopub.status.busy": "2024-05-08T18:05:41.065600Z",
     "iopub.status.idle": "2024-05-08T18:05:41.385239Z",
     "shell.execute_reply": "2024-05-08T18:05:41.384132Z"
    },
    "papermill": {
     "duration": 0.336385,
     "end_time": "2024-05-08T18:05:41.387451",
     "exception": false,
     "start_time": "2024-05-08T18:05:41.051066",
     "status": "completed"
    },
    "tags": []
   },
   "outputs": [
    {
     "name": "stdout",
     "output_type": "stream",
     "text": [
      "money made this year 801944.7000000001\n"
     ]
    },
    {
     "data": {
      "image/png": "[encoded data removed]",
      "text/plain": [
       "<Figure size 700x500 with 1 Axes>"
      ]
     },
     "metadata": {},
     "output_type": "display_data"
    }
   ],
   "source": [
    "#money made this year\n",
    "print('money made this year',fdf['price'].sum())\n",
    "#identifying seasonality in sales\n",
    "identifying_seasonality_in_sales = fdf['months'].value_counts().sort_values(ascending = False)\n",
    "plt.title('identifying seasonality in sales')\n",
    "plt.ylabel('No. of orders per month')\n",
    "ax = identifying_seasonality_in_sales.plot(kind = 'bar', figsize = (7,5), color = sns.color_palette('flare'))\n",
    "for bars in ax.containers:\n",
    "    ax.bar_label(bars)\n",
    "#here we can see that identifying a seasonaltiy in sales is a bit tough but the highest grossing sales for the outlet was in the month of julty followed by may."
   ]
  },
  {
   "cell_type": "markdown",
   "id": "2ad8344f",
   "metadata": {
    "papermill": {
     "duration": 0.014061,
     "end_time": "2024-05-08T18:05:41.415430",
     "exception": false,
     "start_time": "2024-05-08T18:05:41.401369",
     "status": "completed"
    },
    "tags": []
   },
   "source": [
    "#  **Question 6 - Are there any pizzas that we should take off the menu, or any promotions we could leverage?**"
   ]
  },
  {
   "cell_type": "code",
   "execution_count": 26,
   "id": "9bbc5998",
   "metadata": {
    "execution": {
     "iopub.execute_input": "2024-05-08T18:05:41.504381Z",
     "iopub.status.busy": "2024-05-08T18:05:41.504011Z",
     "iopub.status.idle": "2024-05-08T18:05:41.516025Z",
     "shell.execute_reply": "2024-05-08T18:05:41.515081Z"
    },
    "papermill": {
     "duration": 0.031479,
     "end_time": "2024-05-08T18:05:41.518330",
     "exception": false,
     "start_time": "2024-05-08T18:05:41.486851",
     "status": "completed"
    },
    "tags": []
   },
   "outputs": [
    {
     "name": "stdout",
     "output_type": "stream",
     "text": [
      "the 10 least pizzas sold are pizza_id\n",
      "the_greek_s       3600.00\n",
      "ital_cpcllo_s     3600.00\n",
      "soppressata_s     3600.00\n",
      "mediterraneo_s    3456.00\n",
      "ital_supr_s       2425.00\n",
      "mexicana_s        1920.00\n",
      "green_garden_l    1903.50\n",
      "ckn_alfredo_s     1224.00\n",
      "calabrese_s       1212.75\n",
      "the_greek_xxl     1006.60\n",
      "Name: price, dtype: float64\n",
      "the 10 least pizzas ordered are pizza_id\n",
      "the_greek_xxl      28\n",
      "green_garden_l     94\n",
      "ckn_alfredo_s      96\n",
      "calabrese_s        99\n",
      "mexicana_s        160\n",
      "ckn_alfredo_l     187\n",
      "ital_veggie_l     190\n",
      "ital_supr_s       194\n",
      "the_greek_l       255\n",
      "spinach_supr_m    266\n",
      "Name: count, dtype: int64\n"
     ]
    }
   ],
   "source": [
    "## let's see what are the least 10 pizzas sold by revenue and the least 10 pizzas ordered.\n",
    "#least 10 pizzas soldby revenue\n",
    "print('the 10 least pizzas sold are', pizza_sales.tail(10))\n",
    "#least 10 pizzas ordered\n",
    "print('the 10 least pizzas ordered are', fdf['pizza_id'].value_counts().sort_values(ascending = True).head(10))\n",
    "#Here we can see that the_greek_xxl is the pizza that has been least sold in terms of revenue and orders so it should be taken offf the menu."
   ]
  },
  {
   "cell_type": "markdown",
   "id": "4b458d07",
   "metadata": {
    "papermill": {
     "duration": 0.013539,
     "end_time": "2024-05-08T18:05:41.546099",
     "exception": false,
     "start_time": "2024-05-08T18:05:41.532560",
     "status": "completed"
    },
    "tags": []
   },
   "source": [
    "# **Conclusion :-**"
   ]
  },
  {
   "cell_type": "markdown",
   "id": "b596339a",
   "metadata": {
    "papermill": {
     "duration": 0.01354,
     "end_time": "2024-05-08T18:05:41.573326",
     "exception": false,
     "start_time": "2024-05-08T18:05:41.559786",
     "status": "completed"
    },
    "tags": []
   },
   "source": [
    "1.The pizza place sold a large number of pizzas in 2015 making a revenue of $801945.\n",
    "\n",
    "2.Customers generally like to order their pizzas from classic category in large size and quantifying to 1 in general and 4 in rare cases.\n",
    "\n",
    "3.Customer generally visit the place at 12 PM - 1 PM & 5 PM - 6PM making them their peak hours and having an average customer of 135.\n",
    "\n",
    "4.The highest number of sales or the place was in the month of july and followed by may.\n",
    "\n",
    "5.The_Greek_Xxl should be taken off the menu asit is the least sold pizza in terms of revenue and orders."
   ]
  }
 ],
 "metadata": {
  "kaggle": {
   "accelerator": "none",
   "dataSources": [
    {
     "datasetId": 2515860,
     "sourceId": 4269787,
     "sourceType": "datasetVersion"
    }
   ],
   "dockerImageVersionId": 30698,
   "isGpuEnabled": false,
   "isInternetEnabled": false,
   "language": "python",
   "sourceType": "notebook"
  },
  "kernelspec": {
   "display_name": "Python 3",
   "language": "python",
   "name": "python3"
  },
  "language_info": {
   "codemirror_mode": {
    "name": "ipython",
    "version": 3
   },
   "file_extension": ".py",
   "mimetype": "text/x-python",
   "name": "python",
   "nbconvert_exporter": "python",
   "pygments_lexer": "ipython3",
   "version": "3.10.13"
  },
  "papermill": {
   "default_parameters": {},
   "duration": 9.100703,
   "end_time": "2024-05-08T18:05:42.108229",
   "environment_variables": {},
   "exception": null,
   "input_path": "__notebook__.ipynb",
   "output_path": "__notebook__.ipynb",
   "parameters": {},
   "start_time": "2024-05-08T18:05:33.007526",
   "version": "2.5.0"
  }
 },
 "nbformat": 4,
 "nbformat_minor": 5
}
